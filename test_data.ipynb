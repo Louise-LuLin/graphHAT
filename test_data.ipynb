{
 "cells": [
  {
   "cell_type": "code",
   "execution_count": 1,
   "metadata": {},
   "outputs": [
    {
     "name": "stdout",
     "output_type": "stream",
     "text": [
      "python version:  sys.version_info(major=3, minor=6, micro=10, releaselevel='final', serial=0)\n"
     ]
    }
   ],
   "source": [
    "import numpy as np\n",
    "import pickle as pkl\n",
    "import scipy.sparse as sp\n",
    "import networkx as nx\n",
    "import sys\n",
    "print ('python version: ', sys.version_info)"
   ]
  },
  {
   "cell_type": "markdown",
   "metadata": {},
   "source": [
    "### Check the dataset"
   ]
  },
  {
   "cell_type": "code",
   "execution_count": 2,
   "metadata": {},
   "outputs": [
    {
     "name": "stdout",
     "output_type": "stream",
     "text": [
      "Below shows the type of the stored objects:\n",
      "-- features: type=<class 'scipy.sparse.lil.lil_matrix'>, shape=(2708, 1433)\n",
      "-- graph: type=<class 'collections.defaultdict'>, node num=2708\n",
      "-- idx_train: type=<class 'list'>, size=140\n",
      "-- idx_eval: type=<class 'list'>, size=500\n",
      "-- idx_test: type=<class 'list'>, size=1000\n"
     ]
    }
   ],
   "source": [
    "dataset = 'cora'\n",
    "names = ['features', 'graph', 'idx_train', 'idx_eval', 'idx_test']\n",
    "objects = []\n",
    "for i in range(len(names)):\n",
    "    f = open(\"./data/{}/{}.bin\".format(dataset, names[i]), 'rb')\n",
    "    if sys.version_info > (3, 0): # if python==3.x\n",
    "        objects.append(pkl.load(f, encoding='latin1'))\n",
    "    else: # if python==2.x\n",
    "        objects.append(pkl.load(f))\n",
    "features, graph, idx_train, idx_eval, idx_test = objects\n",
    "\n",
    "print (\"Below shows the type of the stored objects:\")\n",
    "print (\"-- features: type={}, shape={}\".format(type(features), features.shape))\n",
    "print (\"-- graph: type={}, node num={}\".format(type(graph), len(graph)))\n",
    "print (\"-- idx_train: type={}, size={}\".format(type(idx_train), len(idx_train)))\n",
    "print (\"-- idx_eval: type={}, size={}\".format(type(idx_eval), len(idx_eval)))\n",
    "print (\"-- idx_test: type={}, size={}\".format(type(idx_test), len(idx_test)))"
   ]
  },
  {
   "cell_type": "code",
   "execution_count": 3,
   "metadata": {},
   "outputs": [
    {
     "name": "stdout",
     "output_type": "stream",
     "text": [
      "(2708, 1433) <class 'numpy.ndarray'>\n"
     ]
    }
   ],
   "source": [
    "# convert scipy sparse matrix to numpy array\n",
    "dense_features = features.toarray()\n",
    "print (dense_features.shape, type(dense_features))"
   ]
  },
  {
   "cell_type": "markdown",
   "metadata": {},
   "source": [
    "### Process facebook_page data\n",
    "* Source link: https://www.kaggle.com/rozemberczki/musae-facebook-pagepage-network?select=musae_facebook_target.csv"
   ]
  },
  {
   "cell_type": "code",
   "execution_count": null,
   "metadata": {
    "collapsed": true
   },
   "outputs": [],
   "source": [
    "# TODO: fill here to process facebook data"
   ]
  },
  {
   "cell_type": "markdown",
   "metadata": {},
   "source": [
    "### Process amazon_product data\n",
    "* Source link: https://ogb.stanford.edu/docs/nodeprop/#loader"
   ]
  },
  {
   "cell_type": "code",
   "execution_count": null,
   "metadata": {
    "collapsed": true
   },
   "outputs": [],
   "source": [
    "# TODO: fill here to process amazon data"
   ]
  },
  {
   "cell_type": "markdown",
   "metadata": {},
   "source": [
    "### Process citation data\n",
    "* Source link: https://github.com/kimiyoung/planetoid, where x, allx and tx are labeled data, unlabeled data and test data for inductive learning\n",
    "* Process and split train/eval/test sets based on https://github.com/PetarV-/GAT/blob/master/utils/process.py"
   ]
  },
  {
   "cell_type": "code",
   "execution_count": 26,
   "metadata": {
    "collapsed": true
   },
   "outputs": [],
   "source": [
    "def parse_index_file(filename):\n",
    "    \"\"\"Parse index file.\"\"\"\n",
    "    index = []\n",
    "    for line in open(filename):\n",
    "        index.append(int(line.strip()))\n",
    "    return index\n",
    "def sample_mask(idx, l):\n",
    "    \"\"\"Create mask.\"\"\"\n",
    "    mask = np.zeros(l)\n",
    "    mask[idx] = 1\n",
    "    return np.array(mask, dtype=np.bool)"
   ]
  },
  {
   "cell_type": "code",
   "execution_count": 79,
   "metadata": {
    "collapsed": true
   },
   "outputs": [],
   "source": [
    "def process_citation_data(dataset_str): # {'pubmed', 'citeseer', 'cora'}\n",
    "    \"\"\"Load data.\"\"\"\n",
    "    names = ['x', 'y', 'tx', 'ty', 'allx', 'ally', 'graph']\n",
    "    objects = []\n",
    "    for i in range(len(names)):\n",
    "        with open(\"./data/ind.{}.{}\".format(dataset_str, names[i]), 'rb') as f:\n",
    "            if sys.version_info > (3, 0):\n",
    "                objects.append(pkl.load(f, encoding='latin1'))\n",
    "            else:\n",
    "                objects.append(pkl.load(f))\n",
    "\n",
    "    x, y, tx, ty, allx, ally, graph = tuple(objects)    \n",
    "    test_idx_reorder = parse_index_file(\"./data/ind.{}.test.index\".format(dataset_str))\n",
    "    test_idx_range = np.sort(test_idx_reorder)\n",
    "    \n",
    "#     print (x.shape, y.shape, tx.shape, allx.shape)\n",
    "#     print (len(test_idx_reorder), test_idx_reorder[:10], test_idx_range[:10])\n",
    "\n",
    "    if dataset_str == 'citeseer':\n",
    "        # Fix citeseer dataset (there are some isolated nodes in the graph)\n",
    "        # Find isolated nodes, add them as zero-vecs into the right position\n",
    "        test_idx_range_full = range(min(test_idx_reorder), max(test_idx_reorder)+1)\n",
    "        tx_extended = sp.lil_matrix((len(test_idx_range_full), x.shape[1]))\n",
    "        tx_extended[test_idx_range-min(test_idx_range), :] = tx\n",
    "        tx = tx_extended\n",
    "        ty_extended = np.zeros((len(test_idx_range_full), y.shape[1]))\n",
    "        ty_extended[test_idx_range-min(test_idx_range), :] = ty\n",
    "        ty = ty_extended\n",
    "\n",
    "    features = sp.vstack((allx, tx)).tolil()\n",
    "    features[test_idx_reorder, :] = features[test_idx_range, :]\n",
    "    labels = np.vstack((ally, ty))\n",
    "    labels[test_idx_reorder, :] = labels[test_idx_range, :]\n",
    "    \n",
    "    idx_test = test_idx_range.tolist()\n",
    "    idx_train = range(len(y))\n",
    "    idx_val = range(len(y), len(y)+500)\n",
    "    \n",
    "    print (\"labeled instance total num: \", len(idx_test)+len(idx_train)+len(idx_val))\n",
    "    print (\"instance total num*feature_dim, with class num: \", features.shape, labels.shape[1])\n",
    "    print (\"node num in graph: \", len(graph))\n",
    "\n",
    "    return features, graph, idx_train, idx_val, idx_test"
   ]
  },
  {
   "cell_type": "code",
   "execution_count": 86,
   "metadata": {},
   "outputs": [
    {
     "name": "stdout",
     "output_type": "stream",
     "text": [
      "('labeled instance total num: ', 1560)\n",
      "('instance total num*feature_dim, with class num: ', (19717, 500), 3)\n",
      "('node num in graph: ', 19717)\n"
     ]
    }
   ],
   "source": [
    "dataset = 'pubmed'\n",
    "names = ['features', 'graph', 'idx_train', 'idx_eval', 'idx_test']\n",
    "objects = process_citation_data(dataset) # features, graph, idx_train, idx_val, idx_test\n",
    "for i in range(len(names)):\n",
    "    pkl.dump(objects[i], open(\"./data/{}/{}.bin\".format(dataset, names[i]), 'wb'))"
   ]
  }
 ],
 "metadata": {
  "kernelspec": {
   "display_name": "Python (tf1.15)",
   "language": "python",
   "name": "tf115"
  },
  "language_info": {
   "codemirror_mode": {
    "name": "ipython",
    "version": 3
   },
   "file_extension": ".py",
   "mimetype": "text/x-python",
   "name": "python",
   "nbconvert_exporter": "python",
   "pygments_lexer": "ipython3",
   "version": "3.6.10"
  }
 },
 "nbformat": 4,
 "nbformat_minor": 2
}
